{
 "cells": [
  {
   "cell_type": "markdown",
   "metadata": {},
   "source": [
    "# GARBAGE COLLECTION & MEMORY MANAGEMENT IN PYTHON\n",
    "\n",
    "Garbage collection is an automatic memory management function that guarantees memory utilized by objects that are no longer in use is freed up for subsequent allocations. This process helps manage and prevent Memory leaks, which over time could cause applications to lag or crash.This Procedure also aids in memory management.\n",
    "\n",
    "\n",
    "Python has a built-in `Memory Management` System that is responsible for memory allocations to new objects created, and releasing memory when they are no longer in use.  \n",
    "## How Memory Management is Handled\n",
    "1. `Reference Counting` - In Python, each object possesses a reference count that indicates the number of references or variables pointing to it. When an object's reference count reaches 0, meaning that no variable or other object refers it any more, Python automatically deallocates the memory since it considers the object to be unreachable.\n",
    "2. `Cyclic Garbage Collector` - Python features a cyclic garbage collector that can identify and clear these reference cycles in order to manage such situations. In order to break these cycles and release memory, the cyclic garbage collector periodically searches for collections of objects that are referenced by one another but are not now reachable.\n",
    "\n"
   ]
  },
  {
   "cell_type": "markdown",
   "metadata": {},
   "source": [
    "# NUMPY ARRAYS & PYTHON LISTS\n",
    "Python list is a built-i data structure thats allows the storage of ordered collection of items or either same or different data type"
   ]
  },
  {
   "cell_type": "code",
   "execution_count": null,
   "metadata": {
    "vscode": {
     "languageId": "plaintext"
    }
   },
   "outputs": [],
   "source": [
    "my_list = [1,2,3,'a', 'x','d']"
   ]
  },
  {
   "cell_type": "markdown",
   "metadata": {},
   "source": [
    "NumPy Arrays are a grid of values all of the same datatype and are indexed by a tuple of non-negative numbers."
   ]
  },
  {
   "cell_type": "code",
   "execution_count": null,
   "metadata": {
    "vscode": {
     "languageId": "plaintext"
    }
   },
   "outputs": [],
   "source": [
    "import numpy as np\n",
    "my_array = np.array([1, 2, 3, 4, 5])"
   ]
  },
  {
   "cell_type": "markdown",
   "metadata": {},
   "source": [
    "Python lists are perfect for general-purpose application since they are more versatile and can hold components of many data types. NumPy arrays, on the other hand, are more appropriate for data analysis and scientific computing since they are optimized for numerical operations, memory economy, and performance."
   ]
  },
  {
   "cell_type": "markdown",
   "metadata": {},
   "source": [
    "## Advantages of NumPy Arrays in Numerical Computation\n",
    "NumPy arrays provide numerous advantages for numerical computation, particularly when dealing with large datasets or performance-critical tasks. Key advantages include:\n",
    "\n",
    "- Faster computations through vectorized operations.\n",
    "- Memory efficiency due to the compact storage of homogeneous data.\n",
    "- Advanced mathematical, statistical, and matrix functions.\n",
    "- Powerful slicing, indexing, and broadcasting capabilities.\n",
    "- Integration with the broader Python ecosystem, enabling advanced analytics, machine learning, and visualization."
   ]
  },
  {
   "cell_type": "markdown",
   "metadata": {},
   "source": [
    "# LIST COMPREHENSION\n",
    "\n",
    " it's a simpler way of creating a new list from the values in a list you already have. \n",
    " Without the use of explicit loops, it enables the generation and modification of lists by iterating over sequences, applying conditions, and changing members."
   ]
  },
  {
   "cell_type": "code",
   "execution_count": null,
   "metadata": {
    "vscode": {
     "languageId": "plaintext"
    }
   },
   "outputs": [],
   "source": [
    "squared_values = [x**2 for x in range(1, 11)]\n",
    "print(squared_values)  # Output: [1, 4, 9, 16, 25, 36, 49, 64, 81, 100]"
   ]
  },
  {
   "cell_type": "markdown",
   "metadata": {},
   "source": [
    "# SHALLOW & DEEP COPYING IN PYTHON\n",
    "\n",
    "Both methods are usd to create copies when handling complex data structures, the only difference is how they handle nested objects\n",
    "\n",
    "## Shallow Copy\n",
    "Creates a new object by ccopying the references to the original Object's element rather tha the atual object themselves.\n",
    " - Useful when nested objects don't need to be independent of the original.\n",
    "\n",
    "## Deep Copy\n",
    "Creates a new object and replicates every item in the original, recursively. This guarantees the total independence of the new object from the original, as well as any sub-objects.\n",
    " - Useful when you need a completely independent copy.\n"
   ]
  },
  {
   "cell_type": "code",
   "execution_count": null,
   "metadata": {
    "vscode": {
     "languageId": "plaintext"
    }
   },
   "outputs": [],
   "source": [
    "# implementing deep_copy\n",
    "import copy\n",
    "deep_copy = copy.deep_copycopy(a)   # deep_copy\n"
   ]
  },
  {
   "cell_type": "markdown",
   "metadata": {},
   "source": [
    "## Difference Between list and Tuples"
   ]
  },
  {
   "cell_type": "code",
   "execution_count": null,
   "metadata": {
    "vscode": {
     "languageId": "plaintext"
    }
   },
   "outputs": [],
   "source": [
    "# Creating a list of integers\n",
    "numbers = [1, 2, 3, 4, 5]\n",
    "\n",
    "# Creating a list of strings\n",
    "fruits = ['apple', 'banana', 'cherry']\n",
    "\n",
    "# Creating a mixed data type list\n",
    "mixed_list = [1, 'apple', 3.14, True]\n"
   ]
  },
  {
   "cell_type": "code",
   "execution_count": null,
   "metadata": {
    "vscode": {
     "languageId": "plaintext"
    }
   },
   "outputs": [],
   "source": [
    "# Creating a tuple of integers\n",
    "numbers = (1, 2, 3, 4, 5)\n",
    "\n",
    "# Creating a tuple of strings\n",
    "fruits = ('apple', 'banana', 'cherry')\n",
    "\n",
    "# Creating a mixed data type tuple\n",
    "mixed_tuple = (1, 'apple', 3.14, True)"
   ]
  },
  {
   "cell_type": "code",
   "execution_count": null,
   "metadata": {
    "vscode": {
     "languageId": "plaintext"
    }
   },
   "outputs": [],
   "source": []
  }
 ],
 "metadata": {
  "language_info": {
   "name": "python"
  }
 },
 "nbformat": 4,
 "nbformat_minor": 2
}
